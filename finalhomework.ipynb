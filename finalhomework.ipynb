{
 "cells": [
  {
   "cell_type": "code",
   "execution_count": 1,
   "metadata": {},
   "outputs": [],
   "source": [
    "%matplotlib inline\n",
    "from matplotlib import style\n",
    "style.use('fivethirtyeight')\n",
    "import matplotlib.pyplot as plt"
   ]
  },
  {
   "cell_type": "code",
   "execution_count": 2,
   "metadata": {},
   "outputs": [],
   "source": [
    "import numpy as np\n",
    "import pandas as pd"
   ]
  },
  {
   "cell_type": "code",
   "execution_count": 3,
   "metadata": {},
   "outputs": [],
   "source": [
    "import datetime as dt"
   ]
  },
  {
   "cell_type": "code",
   "execution_count": 4,
   "metadata": {},
   "outputs": [],
   "source": [
    "# Python SQL toolkit and Object Relational Mapper\n",
    "import sqlalchemy\n",
    "from sqlalchemy.ext.automap import automap_base\n",
    "from sqlalchemy.orm import Session\n",
    "from sqlalchemy import create_engine, func"
   ]
  },
  {
   "cell_type": "code",
   "execution_count": 5,
   "metadata": {},
   "outputs": [],
   "source": [
    "engine = create_engine(\"sqlite:///Resources/hawaii.sqlite\")"
   ]
  },
  {
   "cell_type": "code",
   "execution_count": 6,
   "metadata": {},
   "outputs": [],
   "source": [
    "# Create a variable named base to store the automap object. Then use the prepare command to gather the data from the database.\n",
    "Base = automap_base()\n",
    "Base.prepare(engine, reflect=True)\n"
   ]
  },
  {
   "cell_type": "code",
   "execution_count": 7,
   "metadata": {},
   "outputs": [
    {
     "data": {
      "text/plain": [
       "['measurement', 'station']"
      ]
     },
     "execution_count": 7,
     "metadata": {},
     "output_type": "execute_result"
    }
   ],
   "source": [
    "#3.\tView the tables within the database. \n",
    "Base.classes.keys()"
   ]
  },
  {
   "cell_type": "code",
   "execution_count": 8,
   "metadata": {},
   "outputs": [],
   "source": [
    "#create two variables, called reflecting the database\n",
    "measurement = Base.classes.measurement\n",
    "station = Base.classes.station\n"
   ]
  },
  {
   "cell_type": "code",
   "execution_count": 9,
   "metadata": {},
   "outputs": [
    {
     "data": {
      "text/plain": [
       "Table('station', MetaData(bind=None), Column('id', INTEGER(), table=<station>, primary_key=True, nullable=False), Column('station', TEXT(), table=<station>), Column('name', TEXT(), table=<station>), Column('latitude', FLOAT(), table=<station>), Column('longitude', FLOAT(), table=<station>), Column('elevation', FLOAT(), table=<station>), schema=None)"
      ]
     },
     "execution_count": 9,
     "metadata": {},
     "output_type": "execute_result"
    }
   ],
   "source": [
    "station.__table__"
   ]
  },
  {
   "cell_type": "code",
   "execution_count": 10,
   "metadata": {},
   "outputs": [
    {
     "data": {
      "text/plain": [
       "Table('measurement', MetaData(bind=None), Column('id', INTEGER(), table=<measurement>, primary_key=True, nullable=False), Column('station', TEXT(), table=<measurement>), Column('date', TEXT(), table=<measurement>), Column('prcp', FLOAT(), table=<measurement>), Column('tobs', FLOAT(), table=<measurement>), schema=None)"
      ]
     },
     "execution_count": 10,
     "metadata": {},
     "output_type": "execute_result"
    }
   ],
   "source": [
    "#sqllite imports dates as text\n",
    "measurement.__table__"
   ]
  },
  {
   "cell_type": "markdown",
   "metadata": {},
   "source": [
    "#organize by date to Design a query to retrieve the last 12 months of precipitation data.\n"
   ]
  },
  {
   "cell_type": "code",
   "execution_count": 11,
   "metadata": {},
   "outputs": [],
   "source": [
    "# Create our session (link) from Python to the DB\n",
    "#\tCreate a Session to the database\n",
    "#Sessions allow us run multiple commands against a database without having to reconnect every time. \n",
    "session = Session(engine)\n"
   ]
  },
  {
   "cell_type": "code",
   "execution_count": 15,
   "metadata": {},
   "outputs": [
    {
     "data": {
      "text/plain": [
       "('2017-08-23')"
      ]
     },
     "execution_count": 15,
     "metadata": {},
     "output_type": "execute_result"
    }
   ],
   "source": [
    "#session.query to get first date in database\n",
    "session.query(measurement.date).order_by(measurement.date).first()\n",
    "session.query(measurement.date).order_by(measurement.date.desc()).first()\n"
   ]
  },
  {
   "cell_type": "code",
   "execution_count": 17,
   "metadata": {},
   "outputs": [],
   "source": [
    "#pull the last 12 months of data\n",
    "date = dt.datetime(2016,8,23)\n",
    "lastyear = session.query(station.name, measurement.date, measurement.prcp).\\\n",
    "filter(measurement.date > date, measurement.station==station.station).\\\n",
    "order_by(measurement.date).all()"
   ]
  },
  {
   "cell_type": "code",
   "execution_count": 18,
   "metadata": {},
   "outputs": [
    {
     "data": {
      "text/html": [
       "<div>\n",
       "<style scoped>\n",
       "    .dataframe tbody tr th:only-of-type {\n",
       "        vertical-align: middle;\n",
       "    }\n",
       "\n",
       "    .dataframe tbody tr th {\n",
       "        vertical-align: top;\n",
       "    }\n",
       "\n",
       "    .dataframe thead th {\n",
       "        text-align: right;\n",
       "    }\n",
       "</style>\n",
       "<table border=\"1\" class=\"dataframe\">\n",
       "  <thead>\n",
       "    <tr style=\"text-align: right;\">\n",
       "      <th></th>\n",
       "      <th>station</th>\n",
       "      <th>date</th>\n",
       "      <th>prcp</th>\n",
       "    </tr>\n",
       "  </thead>\n",
       "  <tbody>\n",
       "    <tr>\n",
       "      <th>0</th>\n",
       "      <td>WAIKIKI 717.2, HI US</td>\n",
       "      <td>2016-08-24</td>\n",
       "      <td>0.08</td>\n",
       "    </tr>\n",
       "    <tr>\n",
       "      <th>1</th>\n",
       "      <td>KANEOHE 838.1, HI US</td>\n",
       "      <td>2016-08-24</td>\n",
       "      <td>2.15</td>\n",
       "    </tr>\n",
       "    <tr>\n",
       "      <th>2</th>\n",
       "      <td>KUALOA RANCH HEADQUARTERS 886.9, HI US</td>\n",
       "      <td>2016-08-24</td>\n",
       "      <td>2.28</td>\n",
       "    </tr>\n",
       "    <tr>\n",
       "      <th>3</th>\n",
       "      <td>PEARL CITY, HI US</td>\n",
       "      <td>2016-08-24</td>\n",
       "      <td>NaN</td>\n",
       "    </tr>\n",
       "    <tr>\n",
       "      <th>4</th>\n",
       "      <td>WAIMANALO EXPERIMENTAL FARM, HI US</td>\n",
       "      <td>2016-08-24</td>\n",
       "      <td>1.22</td>\n",
       "    </tr>\n",
       "    <tr>\n",
       "      <th>...</th>\n",
       "      <td>...</td>\n",
       "      <td>...</td>\n",
       "      <td>...</td>\n",
       "    </tr>\n",
       "    <tr>\n",
       "      <th>2218</th>\n",
       "      <td>MANOA LYON ARBO 785.2, HI US</td>\n",
       "      <td>2017-08-22</td>\n",
       "      <td>0.50</td>\n",
       "    </tr>\n",
       "    <tr>\n",
       "      <th>2219</th>\n",
       "      <td>WAIKIKI 717.2, HI US</td>\n",
       "      <td>2017-08-23</td>\n",
       "      <td>0.00</td>\n",
       "    </tr>\n",
       "    <tr>\n",
       "      <th>2220</th>\n",
       "      <td>KUALOA RANCH HEADQUARTERS 886.9, HI US</td>\n",
       "      <td>2017-08-23</td>\n",
       "      <td>0.00</td>\n",
       "    </tr>\n",
       "    <tr>\n",
       "      <th>2221</th>\n",
       "      <td>WAIMANALO EXPERIMENTAL FARM, HI US</td>\n",
       "      <td>2017-08-23</td>\n",
       "      <td>0.08</td>\n",
       "    </tr>\n",
       "    <tr>\n",
       "      <th>2222</th>\n",
       "      <td>MANOA LYON ARBO 785.2, HI US</td>\n",
       "      <td>2017-08-23</td>\n",
       "      <td>0.45</td>\n",
       "    </tr>\n",
       "  </tbody>\n",
       "</table>\n",
       "<p>2223 rows × 3 columns</p>\n",
       "</div>"
      ],
      "text/plain": [
       "                                     station        date  prcp\n",
       "0                       WAIKIKI 717.2, HI US  2016-08-24  0.08\n",
       "1                       KANEOHE 838.1, HI US  2016-08-24  2.15\n",
       "2     KUALOA RANCH HEADQUARTERS 886.9, HI US  2016-08-24  2.28\n",
       "3                          PEARL CITY, HI US  2016-08-24   NaN\n",
       "4         WAIMANALO EXPERIMENTAL FARM, HI US  2016-08-24  1.22\n",
       "...                                      ...         ...   ...\n",
       "2218            MANOA LYON ARBO 785.2, HI US  2017-08-22  0.50\n",
       "2219                    WAIKIKI 717.2, HI US  2017-08-23  0.00\n",
       "2220  KUALOA RANCH HEADQUARTERS 886.9, HI US  2017-08-23  0.00\n",
       "2221      WAIMANALO EXPERIMENTAL FARM, HI US  2017-08-23  0.08\n",
       "2222            MANOA LYON ARBO 785.2, HI US  2017-08-23  0.45\n",
       "\n",
       "[2223 rows x 3 columns]"
      ]
     },
     "execution_count": 18,
     "metadata": {},
     "output_type": "execute_result"
    }
   ],
   "source": [
    "lastyeardf = pd.DataFrame(lastyear, columns=[\"station\", \"date\", \"prcp\"])\n",
    "lastyeardf"
   ]
  },
  {
   "cell_type": "code",
   "execution_count": 20,
   "metadata": {},
   "outputs": [
    {
     "data": {
      "text/html": [
       "<div>\n",
       "<style scoped>\n",
       "    .dataframe tbody tr th:only-of-type {\n",
       "        vertical-align: middle;\n",
       "    }\n",
       "\n",
       "    .dataframe tbody tr th {\n",
       "        vertical-align: top;\n",
       "    }\n",
       "\n",
       "    .dataframe thead th {\n",
       "        text-align: right;\n",
       "    }\n",
       "</style>\n",
       "<table border=\"1\" class=\"dataframe\">\n",
       "  <thead>\n",
       "    <tr style=\"text-align: right;\">\n",
       "      <th></th>\n",
       "      <th>station</th>\n",
       "      <th>date</th>\n",
       "      <th>prcp</th>\n",
       "      <th>monthyear</th>\n",
       "    </tr>\n",
       "  </thead>\n",
       "  <tbody>\n",
       "    <tr>\n",
       "      <th>0</th>\n",
       "      <td>WAIKIKI 717.2, HI US</td>\n",
       "      <td>2016-08-24</td>\n",
       "      <td>0.08</td>\n",
       "      <td>2016 08</td>\n",
       "    </tr>\n",
       "    <tr>\n",
       "      <th>1</th>\n",
       "      <td>KANEOHE 838.1, HI US</td>\n",
       "      <td>2016-08-24</td>\n",
       "      <td>2.15</td>\n",
       "      <td>2016 08</td>\n",
       "    </tr>\n",
       "    <tr>\n",
       "      <th>2</th>\n",
       "      <td>KUALOA RANCH HEADQUARTERS 886.9, HI US</td>\n",
       "      <td>2016-08-24</td>\n",
       "      <td>2.28</td>\n",
       "      <td>2016 08</td>\n",
       "    </tr>\n",
       "    <tr>\n",
       "      <th>3</th>\n",
       "      <td>PEARL CITY, HI US</td>\n",
       "      <td>2016-08-24</td>\n",
       "      <td>NaN</td>\n",
       "      <td>2016 08</td>\n",
       "    </tr>\n",
       "    <tr>\n",
       "      <th>4</th>\n",
       "      <td>WAIMANALO EXPERIMENTAL FARM, HI US</td>\n",
       "      <td>2016-08-24</td>\n",
       "      <td>1.22</td>\n",
       "      <td>2016 08</td>\n",
       "    </tr>\n",
       "    <tr>\n",
       "      <th>...</th>\n",
       "      <td>...</td>\n",
       "      <td>...</td>\n",
       "      <td>...</td>\n",
       "      <td>...</td>\n",
       "    </tr>\n",
       "    <tr>\n",
       "      <th>2218</th>\n",
       "      <td>MANOA LYON ARBO 785.2, HI US</td>\n",
       "      <td>2017-08-22</td>\n",
       "      <td>0.50</td>\n",
       "      <td>2017 08</td>\n",
       "    </tr>\n",
       "    <tr>\n",
       "      <th>2219</th>\n",
       "      <td>WAIKIKI 717.2, HI US</td>\n",
       "      <td>2017-08-23</td>\n",
       "      <td>0.00</td>\n",
       "      <td>2017 08</td>\n",
       "    </tr>\n",
       "    <tr>\n",
       "      <th>2220</th>\n",
       "      <td>KUALOA RANCH HEADQUARTERS 886.9, HI US</td>\n",
       "      <td>2017-08-23</td>\n",
       "      <td>0.00</td>\n",
       "      <td>2017 08</td>\n",
       "    </tr>\n",
       "    <tr>\n",
       "      <th>2221</th>\n",
       "      <td>WAIMANALO EXPERIMENTAL FARM, HI US</td>\n",
       "      <td>2017-08-23</td>\n",
       "      <td>0.08</td>\n",
       "      <td>2017 08</td>\n",
       "    </tr>\n",
       "    <tr>\n",
       "      <th>2222</th>\n",
       "      <td>MANOA LYON ARBO 785.2, HI US</td>\n",
       "      <td>2017-08-23</td>\n",
       "      <td>0.45</td>\n",
       "      <td>2017 08</td>\n",
       "    </tr>\n",
       "  </tbody>\n",
       "</table>\n",
       "<p>2223 rows × 4 columns</p>\n",
       "</div>"
      ],
      "text/plain": [
       "                                     station        date  prcp monthyear\n",
       "0                       WAIKIKI 717.2, HI US  2016-08-24  0.08   2016 08\n",
       "1                       KANEOHE 838.1, HI US  2016-08-24  2.15   2016 08\n",
       "2     KUALOA RANCH HEADQUARTERS 886.9, HI US  2016-08-24  2.28   2016 08\n",
       "3                          PEARL CITY, HI US  2016-08-24   NaN   2016 08\n",
       "4         WAIMANALO EXPERIMENTAL FARM, HI US  2016-08-24  1.22   2016 08\n",
       "...                                      ...         ...   ...       ...\n",
       "2218            MANOA LYON ARBO 785.2, HI US  2017-08-22  0.50   2017 08\n",
       "2219                    WAIKIKI 717.2, HI US  2017-08-23  0.00   2017 08\n",
       "2220  KUALOA RANCH HEADQUARTERS 886.9, HI US  2017-08-23  0.00   2017 08\n",
       "2221      WAIMANALO EXPERIMENTAL FARM, HI US  2017-08-23  0.08   2017 08\n",
       "2222            MANOA LYON ARBO 785.2, HI US  2017-08-23  0.45   2017 08\n",
       "\n",
       "[2223 rows x 4 columns]"
      ]
     },
     "execution_count": 20,
     "metadata": {},
     "output_type": "execute_result"
    }
   ],
   "source": [
    "#beacuse there are over 2000 items we are going to group by month and year to graph fewer data values\n",
    "monthyear = []\n",
    "for item in lastyeardf[\"date\"]:\n",
    "    year = item.split(\"-\")[0]\n",
    "    month = item.split(\"-\")[1]\n",
    "    monthyear.append(year+\" \" + month)\n",
    "#Adding month year column to the dataframe\n",
    "lastyeardf[\"monthyear\"] = monthyear\n",
    "lastyeardf   "
   ]
  },
  {
   "cell_type": "code",
   "execution_count": 21,
   "metadata": {},
   "outputs": [
    {
     "data": {
      "text/html": [
       "<div>\n",
       "<style scoped>\n",
       "    .dataframe tbody tr th:only-of-type {\n",
       "        vertical-align: middle;\n",
       "    }\n",
       "\n",
       "    .dataframe tbody tr th {\n",
       "        vertical-align: top;\n",
       "    }\n",
       "\n",
       "    .dataframe thead th {\n",
       "        text-align: right;\n",
       "    }\n",
       "</style>\n",
       "<table border=\"1\" class=\"dataframe\">\n",
       "  <thead>\n",
       "    <tr style=\"text-align: right;\">\n",
       "      <th></th>\n",
       "      <th></th>\n",
       "      <th>Total Precipitaion</th>\n",
       "    </tr>\n",
       "    <tr>\n",
       "      <th>station</th>\n",
       "      <th>monthyear</th>\n",
       "      <th></th>\n",
       "    </tr>\n",
       "  </thead>\n",
       "  <tbody>\n",
       "    <tr>\n",
       "      <th rowspan=\"5\" valign=\"top\">KANEOHE 838.1, HI US</th>\n",
       "      <th>2016 08</th>\n",
       "      <td>2.85</td>\n",
       "    </tr>\n",
       "    <tr>\n",
       "      <th>2016 09</th>\n",
       "      <td>3.76</td>\n",
       "    </tr>\n",
       "    <tr>\n",
       "      <th>2016 10</th>\n",
       "      <td>1.08</td>\n",
       "    </tr>\n",
       "    <tr>\n",
       "      <th>2016 11</th>\n",
       "      <td>1.66</td>\n",
       "    </tr>\n",
       "    <tr>\n",
       "      <th>2016 12</th>\n",
       "      <td>4.39</td>\n",
       "    </tr>\n",
       "    <tr>\n",
       "      <th>...</th>\n",
       "      <th>...</th>\n",
       "      <td>...</td>\n",
       "    </tr>\n",
       "    <tr>\n",
       "      <th rowspan=\"5\" valign=\"top\">WAIMANALO EXPERIMENTAL FARM, HI US</th>\n",
       "      <th>2017 04</th>\n",
       "      <td>11.09</td>\n",
       "    </tr>\n",
       "    <tr>\n",
       "      <th>2017 05</th>\n",
       "      <td>2.60</td>\n",
       "    </tr>\n",
       "    <tr>\n",
       "      <th>2017 06</th>\n",
       "      <td>0.89</td>\n",
       "    </tr>\n",
       "    <tr>\n",
       "      <th>2017 07</th>\n",
       "      <td>0.51</td>\n",
       "    </tr>\n",
       "    <tr>\n",
       "      <th>2017 08</th>\n",
       "      <td>0.34</td>\n",
       "    </tr>\n",
       "  </tbody>\n",
       "</table>\n",
       "<p>88 rows × 1 columns</p>\n",
       "</div>"
      ],
      "text/plain": [
       "                                              Total Precipitaion\n",
       "station                            monthyear                    \n",
       "KANEOHE 838.1, HI US               2016 08                  2.85\n",
       "                                   2016 09                  3.76\n",
       "                                   2016 10                  1.08\n",
       "                                   2016 11                  1.66\n",
       "                                   2016 12                  4.39\n",
       "...                                                          ...\n",
       "WAIMANALO EXPERIMENTAL FARM, HI US 2017 04                 11.09\n",
       "                                   2017 05                  2.60\n",
       "                                   2017 06                  0.89\n",
       "                                   2017 07                  0.51\n",
       "                                   2017 08                  0.34\n",
       "\n",
       "[88 rows x 1 columns]"
      ]
     },
     "execution_count": 21,
     "metadata": {},
     "output_type": "execute_result"
    }
   ],
   "source": [
    "#group the data by month year\n",
    "monthyeargroup = lastyeardf.groupby([\"station\", \"monthyear\"])\n",
    "#add up prcp for each monthyear\n",
    "prcpsum = monthyeargroup[\"prcp\"].sum()\n",
    "\n",
    "prcpsumdf = pd.DataFrame({\n",
    "    \"Total precipitation\":prcpsum\n",
    "})\n",
    "prcpsumdf"
   ]
  },
  {
   "cell_type": "code",
   "execution_count": 24,
   "metadata": {},
   "outputs": [
    {
     "data": {
      "image/png": "[encoded data removed]",
      "text/plain": [
       "<Figure size 1080x288 with 1 Axes>"
      ]
     },
     "metadata": {},
     "output_type": "display_data"
    }
   ],
   "source": [
    "graph = prcpsumdf.unstack(level=0).plot(kind=\"bar\", figsize=(15,4), title=\"Total precipitation\")\n",
    "graph.legend(loc=(1.001, 0))\n",
    "plt.show()"
   ]
  },
  {
   "cell_type": "code",
   "execution_count": 26,
   "metadata": {},
   "outputs": [
    {
     "data": {
      "text/html": [
       "<div>\n",
       "<style scoped>\n",
       "    .dataframe tbody tr th:only-of-type {\n",
       "        vertical-align: middle;\n",
       "    }\n",
       "\n",
       "    .dataframe tbody tr th {\n",
       "        vertical-align: top;\n",
       "    }\n",
       "\n",
       "    .dataframe thead tr th {\n",
       "        text-align: left;\n",
       "    }\n",
       "\n",
       "    .dataframe thead tr:last-of-type th {\n",
       "        text-align: right;\n",
       "    }\n",
       "</style>\n",
       "<table border=\"1\" class=\"dataframe\">\n",
       "  <thead>\n",
       "    <tr>\n",
       "      <th></th>\n",
       "      <th></th>\n",
       "      <th colspan=\"5\" halign=\"left\">prcp</th>\n",
       "    </tr>\n",
       "    <tr>\n",
       "      <th></th>\n",
       "      <th></th>\n",
       "      <th>mean</th>\n",
       "      <th>median</th>\n",
       "      <th>var</th>\n",
       "      <th>std</th>\n",
       "      <th>sem</th>\n",
       "    </tr>\n",
       "    <tr>\n",
       "      <th>station</th>\n",
       "      <th>monthyear</th>\n",
       "      <th></th>\n",
       "      <th></th>\n",
       "      <th></th>\n",
       "      <th></th>\n",
       "      <th></th>\n",
       "    </tr>\n",
       "  </thead>\n",
       "  <tbody>\n",
       "    <tr>\n",
       "      <th rowspan=\"5\" valign=\"top\">KANEOHE 838.1, HI US</th>\n",
       "      <th>2016 08</th>\n",
       "      <td>0.356250</td>\n",
       "      <td>0.120</td>\n",
       "      <td>0.529341</td>\n",
       "      <td>0.727558</td>\n",
       "      <td>0.257231</td>\n",
       "    </tr>\n",
       "    <tr>\n",
       "      <th>2016 09</th>\n",
       "      <td>0.125333</td>\n",
       "      <td>0.065</td>\n",
       "      <td>0.034777</td>\n",
       "      <td>0.186487</td>\n",
       "      <td>0.034048</td>\n",
       "    </tr>\n",
       "    <tr>\n",
       "      <th>2016 10</th>\n",
       "      <td>0.034839</td>\n",
       "      <td>0.020</td>\n",
       "      <td>0.001879</td>\n",
       "      <td>0.043349</td>\n",
       "      <td>0.007786</td>\n",
       "    </tr>\n",
       "    <tr>\n",
       "      <th>2016 11</th>\n",
       "      <td>0.055333</td>\n",
       "      <td>0.025</td>\n",
       "      <td>0.007102</td>\n",
       "      <td>0.084271</td>\n",
       "      <td>0.015386</td>\n",
       "    </tr>\n",
       "    <tr>\n",
       "      <th>2016 12</th>\n",
       "      <td>0.141613</td>\n",
       "      <td>0.100</td>\n",
       "      <td>0.020087</td>\n",
       "      <td>0.141730</td>\n",
       "      <td>0.025455</td>\n",
       "    </tr>\n",
       "    <tr>\n",
       "      <th>...</th>\n",
       "      <th>...</th>\n",
       "      <td>...</td>\n",
       "      <td>...</td>\n",
       "      <td>...</td>\n",
       "      <td>...</td>\n",
       "      <td>...</td>\n",
       "    </tr>\n",
       "    <tr>\n",
       "      <th rowspan=\"5\" valign=\"top\">WAIMANALO EXPERIMENTAL FARM, HI US</th>\n",
       "      <th>2017 04</th>\n",
       "      <td>0.443600</td>\n",
       "      <td>0.000</td>\n",
       "      <td>1.741391</td>\n",
       "      <td>1.319618</td>\n",
       "      <td>0.263924</td>\n",
       "    </tr>\n",
       "    <tr>\n",
       "      <th>2017 05</th>\n",
       "      <td>0.089655</td>\n",
       "      <td>0.000</td>\n",
       "      <td>0.040703</td>\n",
       "      <td>0.201751</td>\n",
       "      <td>0.037464</td>\n",
       "    </tr>\n",
       "    <tr>\n",
       "      <th>2017 06</th>\n",
       "      <td>0.031786</td>\n",
       "      <td>0.000</td>\n",
       "      <td>0.003897</td>\n",
       "      <td>0.062423</td>\n",
       "      <td>0.011797</td>\n",
       "    </tr>\n",
       "    <tr>\n",
       "      <th>2017 07</th>\n",
       "      <td>0.020400</td>\n",
       "      <td>0.000</td>\n",
       "      <td>0.004729</td>\n",
       "      <td>0.068768</td>\n",
       "      <td>0.013754</td>\n",
       "    </tr>\n",
       "    <tr>\n",
       "      <th>2017 08</th>\n",
       "      <td>0.020000</td>\n",
       "      <td>0.000</td>\n",
       "      <td>0.001062</td>\n",
       "      <td>0.032596</td>\n",
       "      <td>0.007906</td>\n",
       "    </tr>\n",
       "  </tbody>\n",
       "</table>\n",
       "<p>88 rows × 5 columns</p>\n",
       "</div>"
      ],
      "text/plain": [
       "                                                  prcp                   \\\n",
       "                                                  mean median       var   \n",
       "station                            monthyear                              \n",
       "KANEOHE 838.1, HI US               2016 08    0.356250  0.120  0.529341   \n",
       "                                   2016 09    0.125333  0.065  0.034777   \n",
       "                                   2016 10    0.034839  0.020  0.001879   \n",
       "                                   2016 11    0.055333  0.025  0.007102   \n",
       "                                   2016 12    0.141613  0.100  0.020087   \n",
       "...                                                ...    ...       ...   \n",
       "WAIMANALO EXPERIMENTAL FARM, HI US 2017 04    0.443600  0.000  1.741391   \n",
       "                                   2017 05    0.089655  0.000  0.040703   \n",
       "                                   2017 06    0.031786  0.000  0.003897   \n",
       "                                   2017 07    0.020400  0.000  0.004729   \n",
       "                                   2017 08    0.020000  0.000  0.001062   \n",
       "\n",
       "                                                                  \n",
       "                                                   std       sem  \n",
       "station                            monthyear                      \n",
       "KANEOHE 838.1, HI US               2016 08    0.727558  0.257231  \n",
       "                                   2016 09    0.186487  0.034048  \n",
       "                                   2016 10    0.043349  0.007786  \n",
       "                                   2016 11    0.084271  0.015386  \n",
       "                                   2016 12    0.141730  0.025455  \n",
       "...                                                ...       ...  \n",
       "WAIMANALO EXPERIMENTAL FARM, HI US 2017 04    1.319618  0.263924  \n",
       "                                   2017 05    0.201751  0.037464  \n",
       "                                   2017 06    0.062423  0.011797  \n",
       "                                   2017 07    0.068768  0.013754  \n",
       "                                   2017 08    0.032596  0.007906  \n",
       "\n",
       "[88 rows x 5 columns]"
      ]
     },
     "execution_count": 26,
     "metadata": {},
     "output_type": "execute_result"
    }
   ],
   "source": [
    "monthyeargroup.agg({\n",
    "    \"prcp\": [\"mean\", \"median\", \"var\", \"std\", \"sem\"]\n",
    "})"
   ]
  },
  {
   "cell_type": "code",
   "execution_count": 29,
   "metadata": {},
   "outputs": [
    {
     "data": {
      "text/plain": [
       "9"
      ]
     },
     "execution_count": 29,
     "metadata": {},
     "output_type": "execute_result"
    }
   ],
   "source": [
    "#Design a query to calculate the total number of stations.\n",
    "session.query(measurement.station).distinct().count()"
   ]
  },
  {
   "cell_type": "code",
   "execution_count": 34,
   "metadata": {},
   "outputs": [
    {
     "data": {
      "text/html": [
       "<div>\n",
       "<style scoped>\n",
       "    .dataframe tbody tr th:only-of-type {\n",
       "        vertical-align: middle;\n",
       "    }\n",
       "\n",
       "    .dataframe tbody tr th {\n",
       "        vertical-align: top;\n",
       "    }\n",
       "\n",
       "    .dataframe thead th {\n",
       "        text-align: right;\n",
       "    }\n",
       "</style>\n",
       "<table border=\"1\" class=\"dataframe\">\n",
       "  <thead>\n",
       "    <tr style=\"text-align: right;\">\n",
       "      <th></th>\n",
       "      <th>station ID</th>\n",
       "      <th>station name</th>\n",
       "      <th>number of rows</th>\n",
       "    </tr>\n",
       "  </thead>\n",
       "  <tbody>\n",
       "    <tr>\n",
       "      <th>0</th>\n",
       "      <td>USC00519281</td>\n",
       "      <td>WAIHEE 837.5, HI US</td>\n",
       "      <td>2772</td>\n",
       "    </tr>\n",
       "    <tr>\n",
       "      <th>1</th>\n",
       "      <td>USC00519397</td>\n",
       "      <td>WAIKIKI 717.2, HI US</td>\n",
       "      <td>2724</td>\n",
       "    </tr>\n",
       "    <tr>\n",
       "      <th>2</th>\n",
       "      <td>USC00513117</td>\n",
       "      <td>KANEOHE 838.1, HI US</td>\n",
       "      <td>2709</td>\n",
       "    </tr>\n",
       "    <tr>\n",
       "      <th>3</th>\n",
       "      <td>USC00519523</td>\n",
       "      <td>WAIMANALO EXPERIMENTAL FARM, HI US</td>\n",
       "      <td>2669</td>\n",
       "    </tr>\n",
       "    <tr>\n",
       "      <th>4</th>\n",
       "      <td>USC00516128</td>\n",
       "      <td>MANOA LYON ARBO 785.2, HI US</td>\n",
       "      <td>2612</td>\n",
       "    </tr>\n",
       "    <tr>\n",
       "      <th>5</th>\n",
       "      <td>USC00514830</td>\n",
       "      <td>KUALOA RANCH HEADQUARTERS 886.9, HI US</td>\n",
       "      <td>2202</td>\n",
       "    </tr>\n",
       "    <tr>\n",
       "      <th>6</th>\n",
       "      <td>USC00511918</td>\n",
       "      <td>HONOLULU OBSERVATORY 702.2, HI US</td>\n",
       "      <td>1979</td>\n",
       "    </tr>\n",
       "    <tr>\n",
       "      <th>7</th>\n",
       "      <td>USC00517948</td>\n",
       "      <td>PEARL CITY, HI US</td>\n",
       "      <td>1372</td>\n",
       "    </tr>\n",
       "    <tr>\n",
       "      <th>8</th>\n",
       "      <td>USC00518838</td>\n",
       "      <td>UPPER WAHIAWA 874.3, HI US</td>\n",
       "      <td>511</td>\n",
       "    </tr>\n",
       "  </tbody>\n",
       "</table>\n",
       "</div>"
      ],
      "text/plain": [
       "    station ID                            station name   number of rows\n",
       "0  USC00519281                     WAIHEE 837.5, HI US             2772\n",
       "1  USC00519397                    WAIKIKI 717.2, HI US             2724\n",
       "2  USC00513117                    KANEOHE 838.1, HI US             2709\n",
       "3  USC00519523      WAIMANALO EXPERIMENTAL FARM, HI US             2669\n",
       "4  USC00516128            MANOA LYON ARBO 785.2, HI US             2612\n",
       "5  USC00514830  KUALOA RANCH HEADQUARTERS 886.9, HI US             2202\n",
       "6  USC00511918       HONOLULU OBSERVATORY 702.2, HI US             1979\n",
       "7  USC00517948                       PEARL CITY, HI US             1372\n",
       "8  USC00518838              UPPER WAHIAWA 874.3, HI US              511"
      ]
     },
     "execution_count": 34,
     "metadata": {},
     "output_type": "execute_result"
    }
   ],
   "source": [
    "#Design a query to find the most active stations.\n",
    "#List the stations and observation counts in descending order.\n",
    "#create a new variable\n",
    "#find the station ID with the most rows\n",
    "stationcount = session.query(measurement.station, station.name, func.count(station.station)).\\\n",
    "filter(measurement.station==station.station).\\\n",
    "group_by(station.station).\\\n",
    "order_by(func.count(station.station).desc()).all()\n",
    "pd.DataFrame(stationcount, columns=[\"station ID\", \"station name\", \" number of rows\"])"
   ]
  },
  {
   "cell_type": "code",
   "execution_count": 35,
   "metadata": {},
   "outputs": [
    {
     "data": {
      "text/html": [
       "<div>\n",
       "<style scoped>\n",
       "    .dataframe tbody tr th:only-of-type {\n",
       "        vertical-align: middle;\n",
       "    }\n",
       "\n",
       "    .dataframe tbody tr th {\n",
       "        vertical-align: top;\n",
       "    }\n",
       "\n",
       "    .dataframe thead th {\n",
       "        text-align: right;\n",
       "    }\n",
       "</style>\n",
       "<table border=\"1\" class=\"dataframe\">\n",
       "  <thead>\n",
       "    <tr style=\"text-align: right;\">\n",
       "      <th></th>\n",
       "      <th>station</th>\n",
       "      <th>low temp</th>\n",
       "      <th>high temp</th>\n",
       "      <th>avg temp</th>\n",
       "    </tr>\n",
       "  </thead>\n",
       "  <tbody>\n",
       "    <tr>\n",
       "      <th>0</th>\n",
       "      <td>WAIHEE 837.5, HI US</td>\n",
       "      <td>54.0</td>\n",
       "      <td>85.0</td>\n",
       "      <td>71.663781</td>\n",
       "    </tr>\n",
       "  </tbody>\n",
       "</table>\n",
       "</div>"
      ],
      "text/plain": [
       "               station  low temp  high temp   avg temp\n",
       "0  WAIHEE 837.5, HI US      54.0       85.0  71.663781"
      ]
     },
     "execution_count": 35,
     "metadata": {},
     "output_type": "execute_result"
    }
   ],
   "source": [
    "#USC00519281 You will need to use a function such as `func.min`, `func.max`, `func.avg`, and `func.count` in your queries.\n",
    "USC00519281 = session.query(station.name, func.min(measurement.tobs),func.max(measurement.tobs), func.avg(measurement.tobs)).\\\n",
    "filter(measurement.station == station.station, station.station==\"USC00519281\").all()\n",
    "stationdf= pd.DataFrame(USC00519281, columns = [\"station\", \"low temp\", \"high temp\", \"avg temp\"])\n",
    "stationdf"
   ]
  },
  {
   "cell_type": "code",
   "execution_count": 36,
   "metadata": {},
   "outputs": [
    {
     "data": {
      "text/plain": [
       "('USC00519397', 19550)"
      ]
     },
     "execution_count": 36,
     "metadata": {},
     "output_type": "execute_result"
    }
   ],
   "source": [
    "# Choose the station with the highest number of temperature observations.\n",
    "# Query the last 12 months of temperature observation data for this station and plot the results as a histogram\n",
    "session.query(measurement.station, func.count(measurement.tobs)).order_by(func.count(measurement.tobs).desc()).first()\n"
   ]
  },
  {
   "cell_type": "code",
   "execution_count": 38,
   "metadata": {},
   "outputs": [
    {
     "data": {
      "text/html": [
       "<div>\n",
       "<style scoped>\n",
       "    .dataframe tbody tr th:only-of-type {\n",
       "        vertical-align: middle;\n",
       "    }\n",
       "\n",
       "    .dataframe tbody tr th {\n",
       "        vertical-align: top;\n",
       "    }\n",
       "\n",
       "    .dataframe thead th {\n",
       "        text-align: right;\n",
       "    }\n",
       "</style>\n",
       "<table border=\"1\" class=\"dataframe\">\n",
       "  <thead>\n",
       "    <tr style=\"text-align: right;\">\n",
       "      <th></th>\n",
       "      <th>date</th>\n",
       "      <th>temperature</th>\n",
       "    </tr>\n",
       "  </thead>\n",
       "  <tbody>\n",
       "    <tr>\n",
       "      <th>0</th>\n",
       "      <td>2016-08-24</td>\n",
       "      <td>79.0</td>\n",
       "    </tr>\n",
       "    <tr>\n",
       "      <th>1</th>\n",
       "      <td>2016-08-25</td>\n",
       "      <td>80.0</td>\n",
       "    </tr>\n",
       "    <tr>\n",
       "      <th>2</th>\n",
       "      <td>2016-08-26</td>\n",
       "      <td>79.0</td>\n",
       "    </tr>\n",
       "    <tr>\n",
       "      <th>3</th>\n",
       "      <td>2016-08-27</td>\n",
       "      <td>77.0</td>\n",
       "    </tr>\n",
       "    <tr>\n",
       "      <th>4</th>\n",
       "      <td>2016-08-28</td>\n",
       "      <td>78.0</td>\n",
       "    </tr>\n",
       "    <tr>\n",
       "      <th>...</th>\n",
       "      <td>...</td>\n",
       "      <td>...</td>\n",
       "    </tr>\n",
       "    <tr>\n",
       "      <th>355</th>\n",
       "      <td>2017-08-19</td>\n",
       "      <td>79.0</td>\n",
       "    </tr>\n",
       "    <tr>\n",
       "      <th>356</th>\n",
       "      <td>2017-08-20</td>\n",
       "      <td>81.0</td>\n",
       "    </tr>\n",
       "    <tr>\n",
       "      <th>357</th>\n",
       "      <td>2017-08-21</td>\n",
       "      <td>81.0</td>\n",
       "    </tr>\n",
       "    <tr>\n",
       "      <th>358</th>\n",
       "      <td>2017-08-22</td>\n",
       "      <td>82.0</td>\n",
       "    </tr>\n",
       "    <tr>\n",
       "      <th>359</th>\n",
       "      <td>2017-08-23</td>\n",
       "      <td>81.0</td>\n",
       "    </tr>\n",
       "  </tbody>\n",
       "</table>\n",
       "<p>360 rows × 2 columns</p>\n",
       "</div>"
      ],
      "text/plain": [
       "           date  temperature\n",
       "0    2016-08-24         79.0\n",
       "1    2016-08-25         80.0\n",
       "2    2016-08-26         79.0\n",
       "3    2016-08-27         77.0\n",
       "4    2016-08-28         78.0\n",
       "..          ...          ...\n",
       "355  2017-08-19         79.0\n",
       "356  2017-08-20         81.0\n",
       "357  2017-08-21         81.0\n",
       "358  2017-08-22         82.0\n",
       "359  2017-08-23         81.0\n",
       "\n",
       "[360 rows x 2 columns]"
      ]
     },
     "execution_count": 38,
     "metadata": {},
     "output_type": "execute_result"
    }
   ],
   "source": [
    "#pull the last 12 months of data\n",
    "#date = dt.datetime(2016,8,23)\n",
    "USC00519397_data= session.query(measurement.date, measurement.tobs).\\\n",
    "filter(measurement.station==\"USC00519397\", measurement.date > date)\n",
    "USC00519397df = pd.DataFrame(USC00519397_data, columns=[\"date\", \"temperature\"])\n",
    "\n",
    "USC00519397df"
   ]
  },
  {
   "cell_type": "code",
   "execution_count": 41,
   "metadata": {},
   "outputs": [
    {
     "data": {
      "image/png": "[encoded data removed]",
      "text/plain": [
       "<Figure size 432x288 with 1 Axes>"
      ]
     },
     "metadata": {},
     "output_type": "display_data"
    }
   ],
   "source": [
    "USC00519397df.plot(kind = \"hist\", bins = 12, title = \"Station USC00519397 Tempature\")\n",
    "plt.show()"
   ]
  },
  {
   "cell_type": "code",
   "execution_count": null,
   "metadata": {},
   "outputs": [],
   "source": []
  }
 ],
 "metadata": {
  "kernelspec": {
   "display_name": "Python 3",
   "language": "python",
   "name": "python3"
  },
  "language_info": {
   "codemirror_mode": {
    "name": "ipython",
    "version": 3
   },
   "file_extension": ".py",
   "mimetype": "text/x-python",
   "name": "python",
   "nbconvert_exporter": "python",
   "pygments_lexer": "ipython3",
   "version": "3.7.6"
  }
 },
 "nbformat": 4,
 "nbformat_minor": 4
}
